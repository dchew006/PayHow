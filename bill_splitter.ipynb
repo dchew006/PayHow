{
 "cells": [
  {
   "cell_type": "markdown",
   "metadata": {},
   "source": [
    "#  Money Splitter"
   ]
  },
  {
   "cell_type": "markdown",
   "metadata": {},
   "source": [
    "##  Start with making dataframe using inputs"
   ]
  },
  {
   "cell_type": "markdown",
   "metadata": {},
   "source": [
    "**Create payment matrix using numpy**"
   ]
  },
  {
   "cell_type": "markdown",
   "metadata": {},
   "source": [
    "This bit will allow us to get user inputs and make a DF out of it"
   ]
  },
  {
   "cell_type": "code",
   "execution_count": null,
   "metadata": {},
   "outputs": [],
   "source": [
    "## taking user input to make a dataframe\n",
    "\n",
    "\n",
    "import pandas as pd\n",
    "\n",
    "df = pd.DataFrame(columns =[\"Name\", \"Amount Paid\"])\n",
    "parts = int(input('Enter number of people in group :'))\n",
    "\n",
    "for i in range(parts):\n",
    "    dp = input(\"enter name: \")\n",
    "    amt = input(\"enter the amount {} paid: \".format(dp))\n",
    "    df1 = pd.DataFrame(data=[[dp, amt]], columns=['Name', 'Amount Paid'])\n",
    "    df = pd.concat([df, df1], axis=0)\n",
    "    \n",
    "    \n",
    "df.index = range(len(df.index))\n",
    "print(df)"
   ]
  },
  {
   "cell_type": "code",
   "execution_count": 1,
   "metadata": {},
   "outputs": [
    {
     "data": {
      "text/html": [
       "<div>\n",
       "<style scoped>\n",
       "    .dataframe tbody tr th:only-of-type {\n",
       "        vertical-align: middle;\n",
       "    }\n",
       "\n",
       "    .dataframe tbody tr th {\n",
       "        vertical-align: top;\n",
       "    }\n",
       "\n",
       "    .dataframe thead th {\n",
       "        text-align: right;\n",
       "    }\n",
       "</style>\n",
       "<table border=\"1\" class=\"dataframe\">\n",
       "  <thead>\n",
       "    <tr style=\"text-align: right;\">\n",
       "      <th></th>\n",
       "      <th>to Tom</th>\n",
       "      <th>to Hafiz</th>\n",
       "      <th>to XiaoMing</th>\n",
       "    </tr>\n",
       "  </thead>\n",
       "  <tbody>\n",
       "    <tr>\n",
       "      <th>Tom owes</th>\n",
       "      <td>0.0</td>\n",
       "      <td>7.0</td>\n",
       "      <td>133.0</td>\n",
       "    </tr>\n",
       "    <tr>\n",
       "      <th>Hafiz owes</th>\n",
       "      <td>0.0</td>\n",
       "      <td>0.0</td>\n",
       "      <td>127.0</td>\n",
       "    </tr>\n",
       "    <tr>\n",
       "      <th>XiaoMing owes</th>\n",
       "      <td>0.0</td>\n",
       "      <td>0.0</td>\n",
       "      <td>0.0</td>\n",
       "    </tr>\n",
       "  </tbody>\n",
       "</table>\n",
       "</div>"
      ],
      "text/plain": [
       "               to Tom  to Hafiz  to XiaoMing\n",
       "Tom owes          0.0       7.0        133.0\n",
       "Hafiz owes        0.0       0.0        127.0\n",
       "XiaoMing owes     0.0       0.0          0.0"
      ]
     },
     "execution_count": 1,
     "metadata": {},
     "output_type": "execute_result"
    }
   ],
   "source": [
    "import numpy as np\n",
    "import pandas as pd\n",
    "\n",
    "#variables given by user\n",
    "friends = [\"Tom\", \"Hafiz\", \"XiaoMing\"]\n",
    "paid = [100, 120, 500]\n",
    "\n",
    "spent = np.array(paid).reshape(-1,1)\n",
    "#the -1 makes the rows dynamic by making it unspecified\n",
    "per_person = spent / len(paid)\n",
    "table = (per_person.T - per_person).clip(min=0)\n",
    "\n",
    "\n",
    "#make df\n",
    "cols = [f\"to {person}\" for person in friends]\n",
    "index = [f\"{person} owes\" for person in friends]\n",
    "df = pd.DataFrame(data=table, columns=cols, index=index).round(0)\n",
    "df\n",
    "\n",
    "#the issue here is that it is leichey to send multiple times to diff ppl"
   ]
  },
  {
   "cell_type": "markdown",
   "metadata": {},
   "source": [
    "##   Least Cash Flow Algorithm"
   ]
  },
  {
   "cell_type": "markdown",
   "metadata": {},
   "source": [
    "**Merge this with the df above**"
   ]
  },
  {
   "cell_type": "code",
   "execution_count": 2,
   "metadata": {},
   "outputs": [
    {
     "name": "stdout",
     "output_type": "stream",
     "text": [
      "Person  0  pays  140.0  to  Person  2\n",
      "Person  1  pays  120.0  to  Person  2\n"
     ]
    }
   ],
   "source": [
    "\n",
    "#people involved\n",
    "n = 3\n",
    "\n",
    "#return index of min values\n",
    "def getmin(arg):\n",
    "    \n",
    "    minInd = 0\n",
    "    for i in range(1, n):\n",
    "        if (arg[i] < arg[minInd]):\n",
    "            minInd = i\n",
    "    return minInd\n",
    "# index of max values\n",
    "def getmax(arg):\n",
    "    \n",
    "    maxInd = 0\n",
    "    for i in range(1, n):\n",
    "        if (arg[i] > arg[maxInd]):\n",
    "            maxInd = i\n",
    "    return maxInd\n",
    "\n",
    "#return min of the two values\n",
    "def minof2(x,y):\n",
    "    if x < y:\n",
    "        return x\n",
    "    else:\n",
    "        return y\n",
    "    \n",
    "#amount[] is the net amount to be Dr/Cr \n",
    "# if positive, that is the amount to be Dr-ed into\n",
    "# if negative, that is the -amount[] to be Cr-ed out \n",
    "def mincashflowrec(amount):\n",
    "    \n",
    "    \n",
    "    #Maxcr is the max to be cr to another person\n",
    "    #maxDr is the max to be taken from another person\n",
    "    maxCr = getmax(amount)\n",
    "    MaxDr = getmin(amount)\n",
    "    \n",
    "    #if balance, amounts settled.\n",
    "    if (amount[maxCr] == 0 and amount[MaxDr] == 0):\n",
    "        return 0\n",
    "    \n",
    "    #min of a indiv's net balance\n",
    "    min = minof2(-amount[MaxDr], amount[maxCr])\n",
    "    amount[maxCr] = amount[maxCr] - min\n",
    "    amount[MaxDr] = amount[MaxDr] + min\n",
    "    \n",
    "    print(\"Person \", MaxDr, \" pays \", min, \" to \", \"Person \", maxCr )\n",
    "    #repeats within array until either maxdr or maxcr becomes 0\n",
    "    \n",
    "    mincashflowrec(amount)\n",
    "\n",
    "#input[a][b] where a needs to pay b\n",
    "def cashflow(input):\n",
    "    amount = [0 for i in range(n)]\n",
    "    #initialise all 0\n",
    "    #create array\n",
    "\n",
    "    for i in range(n):\n",
    "        for j in range(n):\n",
    "            amount[i] += (input[j][i] - input[i][j])\n",
    "    \n",
    "    mincashflowrec(amount)\n",
    "\n",
    "#inputs \n",
    "# where i needs to pay j\n",
    "input = [ [df.iloc[0]['to Tom'],df.iloc[0]['to Hafiz'],df.iloc[0]['to XiaoMing']],\n",
    "         [df.iloc[1]['to Tom'],df.iloc[1]['to Hafiz'], df.iloc[1]['to XiaoMing']],\n",
    "         [df.iloc[2]['to Tom'],df.iloc[2]['to Hafiz'],df.iloc[2]['to XiaoMing']]]\n",
    "\n",
    "\n",
    "cashflow(input)\n",
    "#where the 3 lists corresp to person 0 , 1 , 2\n",
    "# and value 0 = person 0, value 1 = person 1 owed etc\n",
    "#algo assigns least possible transactions to balance\n"
   ]
  }
 ],
 "metadata": {
  "interpreter": {
   "hash": "641e5fbb87add4db2711827be0bb5299b29348456b68d35af533d4d435928d8e"
  },
  "kernelspec": {
   "display_name": "Python 3.10.0 64-bit ('Downloads': conda)",
   "language": "python",
   "name": "python3"
  },
  "language_info": {
   "codemirror_mode": {
    "name": "ipython",
    "version": 3
   },
   "file_extension": ".py",
   "mimetype": "text/x-python",
   "name": "python",
   "nbconvert_exporter": "python",
   "pygments_lexer": "ipython3",
   "version": "3.10.0"
  },
  "orig_nbformat": 4
 },
 "nbformat": 4,
 "nbformat_minor": 2
}
