{
 "cells": [
  {
   "cell_type": "markdown",
   "metadata": {},
   "source": [
    "# PayHow"
   ]
  },
  {
   "cell_type": "markdown",
   "metadata": {},
   "source": [
    "### Create array of amounts owed from user input"
   ]
  },
  {
   "cell_type": "code",
   "execution_count": 2,
   "metadata": {},
   "outputs": [
    {
     "data": {
      "text/html": [
       "<div>\n",
       "<style scoped>\n",
       "    .dataframe tbody tr th:only-of-type {\n",
       "        vertical-align: middle;\n",
       "    }\n",
       "\n",
       "    .dataframe tbody tr th {\n",
       "        vertical-align: top;\n",
       "    }\n",
       "\n",
       "    .dataframe thead th {\n",
       "        text-align: right;\n",
       "    }\n",
       "</style>\n",
       "<table border=\"1\" class=\"dataframe\">\n",
       "  <thead>\n",
       "    <tr style=\"text-align: right;\">\n",
       "      <th></th>\n",
       "      <th>to A</th>\n",
       "      <th>to B</th>\n",
       "    </tr>\n",
       "  </thead>\n",
       "  <tbody>\n",
       "    <tr>\n",
       "      <th>A owes</th>\n",
       "      <td>0.0</td>\n",
       "      <td>13.95</td>\n",
       "    </tr>\n",
       "    <tr>\n",
       "      <th>B owes</th>\n",
       "      <td>0.0</td>\n",
       "      <td>0.00</td>\n",
       "    </tr>\n",
       "  </tbody>\n",
       "</table>\n",
       "</div>"
      ],
      "text/plain": [
       "        to A   to B\n",
       "A owes   0.0  13.95\n",
       "B owes   0.0   0.00"
      ]
     },
     "execution_count": 2,
     "metadata": {},
     "output_type": "execute_result"
    }
   ],
   "source": [
    "#libraries\n",
    "import pandas as pd\n",
    "import numpy as np\n",
    "\n",
    "#user input\n",
    "numofpeople = int(input('enter number of people involved: '))\n",
    "friends = []\n",
    "paid = []\n",
    "\n",
    "for i in range(numofpeople):\n",
    "    name = str(input(\"enter name of friend: \"))\n",
    "    amt = float(input('enter the amount {} paid: '.format(name)))\n",
    "        \n",
    "    friends.append(name)\n",
    "    paid.append(amt)\n",
    "\n",
    "spent = np.array(paid).reshape(-1,1)\n",
    "per_person = spent / len(paid)\n",
    "table = (per_person.T - per_person).clip(min=0)\n",
    "\n",
    "#make a df\n",
    "cols = [f\"to {person}\" for person in friends]\n",
    "index = [f\"{person} owes\" for person in friends]\n",
    "df = pd.DataFrame(data=table, columns=cols, index=index).round(2)\n",
    "\n",
    "#turning df to array\n",
    "myarray = df.to_numpy()\n",
    "\n",
    "df"
   ]
  },
  {
   "cell_type": "markdown",
   "metadata": {},
   "source": [
    "# Least Cashflow Algorithm"
   ]
  },
  {
   "cell_type": "code",
   "execution_count": 10,
   "metadata": {},
   "outputs": [
    {
     "name": "stdout",
     "output_type": "stream",
     "text": [
      "Hello! payment is as follows: \n",
      " A pays 13.95 to B\n"
     ]
    },
    {
     "data": {
      "text/html": [
       "<div>\n",
       "<style scoped>\n",
       "    .dataframe tbody tr th:only-of-type {\n",
       "        vertical-align: middle;\n",
       "    }\n",
       "\n",
       "    .dataframe tbody tr th {\n",
       "        vertical-align: top;\n",
       "    }\n",
       "\n",
       "    .dataframe thead th {\n",
       "        text-align: right;\n",
       "    }\n",
       "</style>\n",
       "<table border=\"1\" class=\"dataframe\">\n",
       "  <thead>\n",
       "    <tr style=\"text-align: right;\">\n",
       "      <th></th>\n",
       "      <th>to A</th>\n",
       "      <th>to B</th>\n",
       "    </tr>\n",
       "  </thead>\n",
       "  <tbody>\n",
       "    <tr>\n",
       "      <th>A owes</th>\n",
       "      <td>0.0</td>\n",
       "      <td>13.95</td>\n",
       "    </tr>\n",
       "    <tr>\n",
       "      <th>B owes</th>\n",
       "      <td>0.0</td>\n",
       "      <td>0.00</td>\n",
       "    </tr>\n",
       "  </tbody>\n",
       "</table>\n",
       "</div>"
      ],
      "text/plain": [
       "        to A   to B\n",
       "A owes   0.0  13.95\n",
       "B owes   0.0   0.00"
      ]
     },
     "execution_count": 10,
     "metadata": {},
     "output_type": "execute_result"
    }
   ],
   "source": [
    "#people involved\n",
    "n = numofpeople\n",
    "\n",
    "#return index of person who owes the most\n",
    "def getmin(arg):\n",
    "    \n",
    "    minInd = 0\n",
    "    for i in range(1, n):\n",
    "        if (arg[i] < arg[minInd]):\n",
    "            minInd = i\n",
    "    return minInd\n",
    "# returns the index of person who owes the least\n",
    "def getmax(arg):\n",
    "    \n",
    "    maxInd = 0\n",
    "    for i in range(1, n):\n",
    "        if (arg[i] > arg[maxInd]):\n",
    "            maxInd = i\n",
    "            \n",
    "    return maxInd\n",
    "\n",
    "#return min of the two values\n",
    "def minof2(x,y):\n",
    "    if x < y:\n",
    "        return x\n",
    "    else:\n",
    "        return y\n",
    "    \n",
    "#LEAST CF ALGORITHM\n",
    "def mincashflowrec(amount):\n",
    "    \n",
    "    #Maxcr is the person with the least debt\n",
    "    #maxDr is the person who owes the most\n",
    "    maxCr = getmax(amount)\n",
    "    MaxDr = getmin(amount)\n",
    "    \n",
    "    #if balance, amounts settled and loop ends\n",
    "    if (amount[maxCr] < 0.00001 and amount[MaxDr] < 0.00001):\n",
    "        return 0\n",
    "    \n",
    "    #finding who to settled first\n",
    "    min = minof2(-amount[MaxDr], amount[maxCr]) #the highest about of debt/credit to be settled first\n",
    "    amount[maxCr] = amount[maxCr] - min\n",
    "    amount[MaxDr] = amount[MaxDr] + min\n",
    "    \n",
    "    Payer = friends[MaxDr] #person with most debt\n",
    "    Payee = friends[maxCr] #person with least debt to be paid first\n",
    "     \n",
    "    print(\"Hello! payment is as follows: \\n\",Payer, \"pays\", min.round(2),\"to\", Payee )\n",
    " #   print(amount)\n",
    "    #repeats within array until either maxdr or maxcr becomes 0\n",
    "    \n",
    "    mincashflowrec(amount)\n",
    "\n",
    "#take array and turns it into list of amounts owed for each person\n",
    "def cashflow(input):\n",
    "    amount = [0 for i in range(n)]\n",
    "    \n",
    "    for i in range(n):\n",
    "        for j in range(n):\n",
    "            amount[i] += (input[j][i] - input[i][j])\n",
    "    \n",
    "#    print(amount)\n",
    "    mincashflowrec(amount)\n",
    "\n",
    "\n",
    "input = myarray\n",
    "\n",
    "cashflow(input)\n",
    "#algo assigns least possible transactions to balance\n",
    "\n",
    "df"
   ]
  },
  {
   "cell_type": "code",
   "execution_count": null,
   "metadata": {},
   "outputs": [],
   "source": []
  }
 ],
 "metadata": {
  "interpreter": {
   "hash": "949777d72b0d2535278d3dc13498b2535136f6dfe0678499012e853ee9abcab1"
  },
  "kernelspec": {
   "display_name": "Python 3.10.2 64-bit",
   "language": "python",
   "name": "python3"
  },
  "language_info": {
   "codemirror_mode": {
    "name": "ipython",
    "version": 3
   },
   "file_extension": ".py",
   "mimetype": "text/x-python",
   "name": "python",
   "nbconvert_exporter": "python",
   "pygments_lexer": "ipython3",
   "version": "3.10.2"
  },
  "orig_nbformat": 4
 },
 "nbformat": 4,
 "nbformat_minor": 2
}
